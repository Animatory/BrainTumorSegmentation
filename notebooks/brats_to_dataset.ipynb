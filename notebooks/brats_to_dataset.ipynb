{
 "cells": [
  {
   "cell_type": "code",
   "execution_count": 111,
   "metadata": {},
   "outputs": [],
   "source": [
    "# ! pip install medpy pydicom"
   ]
  },
  {
   "cell_type": "markdown",
   "metadata": {},
   "source": [
    "* https://www.kaggle.com/saurava/braintumor-eda - useful notebook for BRATS 2015 dataset for unstanding dataset structure and visualization\n",
    "\n",
    "* VSD.Brain_3more.XX.XX.OT - is directory with ground truth masks\n",
    "\n",
    "* We will use T1_c images - the same as were used in the initial dataset"
   ]
  },
  {
   "cell_type": "markdown",
   "metadata": {},
   "source": [
    "## Train-Test csv Creation"
   ]
  },
  {
   "cell_type": "code",
   "execution_count": 101,
   "metadata": {},
   "outputs": [],
   "source": [
    "from medpy.io import load\n",
    "import matplotlib.pyplot as plt\n",
    "import os\n",
    "import pandas as pd\n",
    "from sklearn.utils import shuffle"
   ]
  },
  {
   "cell_type": "code",
   "execution_count": 60,
   "metadata": {},
   "outputs": [],
   "source": [
    "df = pd.DataFrame({'path':[], 'label_path':[]})"
   ]
  },
  {
   "cell_type": "code",
   "execution_count": 98,
   "metadata": {},
   "outputs": [],
   "source": [
    "def get_label_path(path_to_person):\n",
    "    for f in os.listdir(path_to_person):\n",
    "        if 'more' in f :\n",
    "            for i in os.listdir(f'{path_to_person}/{f}'):\n",
    "                if '.mha' in i:\n",
    "                    return f'{path_to_person}/{f}/{i}'"
   ]
  },
  {
   "cell_type": "code",
   "execution_count": 133,
   "metadata": {},
   "outputs": [],
   "source": [
    "path_to_image_data = '/Users/polinaturiseva/Desktop/cv_inno/project/brats/BRATS-2/Image_Data'\n",
    "\n",
    "path = []\n",
    "label_path = []\n",
    "index = []\n",
    "view = []\n",
    "\n",
    "for fold in os.listdir(path_to_image_data):\n",
    "    for person in os.listdir(f'{path_to_image_data}/{fold}'):\n",
    "        after_person = os.listdir(f'{path_to_image_data}/{fold}/{person}')\n",
    "        for f in after_person:\n",
    "            if f=='VSD.Brain.XX.O.MR_T1c':\n",
    "                for i in os.listdir(f'{path_to_image_data}/{fold}/{person}/{f}'):\n",
    "                    if '.mha' in i:\n",
    "                        label = get_label_path(f'{path_to_image_data}/{fold}/{person}')\n",
    "                        mage_data, _ = load(f'{path_to_image_data}/{fold}/{person}/{f}/{i}')\n",
    "                        \n",
    "                        for j in range(mage_data.shape[0]):\n",
    "                            if sum(sum(mage_data[j, :, :]))!=0:\n",
    "                                view.append(0)\n",
    "                                index.append(j)\n",
    "                                path.append(f'{path_to_image_data}/{fold}/{person}/{f}/{i}')\n",
    "                                label_path.append(label)\n",
    "                                \n",
    "                        for j in range(mage_data.shape[1]):\n",
    "                            if sum(sum(mage_data[:, j, :]))!=0:\n",
    "                                view.append(1)\n",
    "                                index.append(j)\n",
    "                                path.append(f'{path_to_image_data}/{fold}/{person}/{f}/{i}')\n",
    "                                label_path.append(label)\n",
    "                                \n",
    "                        for j in range(mage_data.shape[2]):\n",
    "                            if sum(sum(mage_data[:, :, j]))!=0:\n",
    "                                view.append(2)\n",
    "                                index.append(j)\n",
    "                                path.append(f'{path_to_image_data}/{fold}/{person}/{f}/{i}')\n",
    "                                label_path.append(label)\n",
    "\n",
    " \n",
    "df = pd.DataFrame({'path':path, 'label_path':label_path, 'index': index, 'view':view })\n",
    "df.to_csv('all_data.csv')\n",
    "df = shuffle(df)\n",
    "df[:int(len(df)*0.2)].to_csv('data_test.csv')\n",
    "df[int(len(df)*0.2):].to_csv('data_train.csv')"
   ]
  },
  {
   "cell_type": "markdown",
   "metadata": {},
   "source": [
    "## Check for negative cases"
   ]
  },
  {
   "cell_type": "code",
   "execution_count": 93,
   "metadata": {},
   "outputs": [
    {
     "name": "stdout",
     "output_type": "stream",
     "text": [
      "5417\n",
      "4199\n"
     ]
    }
   ],
   "source": [
    "count = 0\n",
    "count_nonzero = 0 \n",
    "for i in path:\n",
    "    mage_data, image_header = load(i)\n",
    "    count += mage_data.shape[0]\n",
    "    for j in range(mage_data.shape[0]):\n",
    "        if sum(sum(mage_data[j, :, :]))!=0:\n",
    "            count_nonzero += 1\n",
    "            \n",
    "print(count)\n",
    "print(count_nonzero)"
   ]
  },
  {
   "cell_type": "code",
   "execution_count": 116,
   "metadata": {},
   "outputs": [
    {
     "name": "stdout",
     "output_type": "stream",
     "text": [
      "5417\n",
      "1789\n"
     ]
    }
   ],
   "source": [
    "count = 0\n",
    "count_nonzero = 0 \n",
    "non_zero_matrixes = []\n",
    "for i in set(label_path):\n",
    "    mage_data, image_header = load(i)\n",
    "    count += mage_data.shape[0]\n",
    "    for j in range(mage_data.shape[0]):\n",
    "        if sum(sum(mage_data[j, :, :]))!=0:\n",
    "            count_nonzero += 1\n",
    "            non_zero_matrixes.append(mage_data[j, :, :])\n",
    "            \n",
    "print(count)\n",
    "print(count_nonzero)"
   ]
  }
 ],
 "metadata": {
  "kernelspec": {
   "display_name": "Python 3",
   "language": "python",
   "name": "python3"
  },
  "language_info": {
   "codemirror_mode": {
    "name": "ipython",
    "version": 3
   },
   "file_extension": ".py",
   "mimetype": "text/x-python",
   "name": "python",
   "nbconvert_exporter": "python",
   "pygments_lexer": "ipython3",
   "version": "3.7.2"
  }
 },
 "nbformat": 4,
 "nbformat_minor": 2
}
